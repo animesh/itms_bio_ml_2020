{
 "cells": [
  {
   "cell_type": "code",
   "execution_count": 1,
   "metadata": {},
   "outputs": [],
   "source": [
    "num_split = 10\n",
    "\n",
    "curr_s = \"V300024282_L02_97\"\n",
    "\n",
    "outfiles1 = [open(str(i)+\"_\"+curr_s+\"_1.fq\", \"w\") for i in range(10)]\n",
    "outfiles2 = [open(str(i)+\"_\"+curr_s+\"_2.fq\", \"w\") for i in range(10)]\n",
    "\n",
    "data1 = []\n",
    "data2 = []\n",
    "\n",
    "with open(curr_s+\"_1.fq\", \"r\") as f1:\n",
    "    with open(curr_s+\"_2.fq\", \"r\") as f2:\n",
    "        data1 = [x for x in f1.read().split(\"\\n\") if x.strip() != \"\"]\n",
    "        data2 = [x for x in f2.read().split(\"\\n\") if x.strip() != \"\"]\n",
    "        "
   ]
  },
  {
   "cell_type": "code",
   "execution_count": 2,
   "metadata": {},
   "outputs": [],
   "source": [
    "from random import randrange\n",
    "\n",
    "line_len = 4\n",
    "\n",
    "for i in range(0, int(len(data1)), 4):\n",
    "    curr_f = randrange(0, 10)\n",
    "    \n",
    "    for j in range(line_len):\n",
    "        outfiles1[curr_f].write(data1[i+j]+\"\\n\")\n",
    "        outfiles2[curr_f].write(data2[i+j]+\"\\n\")\n",
    "        "
   ]
  },
  {
   "cell_type": "code",
   "execution_count": 3,
   "metadata": {},
   "outputs": [],
   "source": [
    "for outfile in outfiles1:\n",
    "    outfile.close()\n",
    "    \n",
    "for outfile in outfiles2:\n",
    "    outfile.close()\n"
   ]
  },
  {
   "cell_type": "code",
   "execution_count": 4,
   "metadata": {},
   "outputs": [],
   "source": [
    "num_split = 10\n",
    "\n",
    "curr_s = \"V300024282_L02_1\"\n",
    "\n",
    "outfiles1 = [open(str(i)+\"_\"+curr_s+\"_1.fq\", \"w\") for i in range(10)]\n",
    "outfiles2 = [open(str(i)+\"_\"+curr_s+\"_2.fq\", \"w\") for i in range(10)]\n",
    "\n",
    "data1 = []\n",
    "data2 = []\n",
    "\n",
    "with open(curr_s+\"_1.fq\", \"r\") as f1:\n",
    "    with open(curr_s+\"_2.fq\", \"r\") as f2:\n",
    "        data1 = [x for x in f1.read().split(\"\\n\") if x.strip() != \"\"]\n",
    "        data2 = [x for x in f2.read().split(\"\\n\") if x.strip() != \"\"]\n",
    "        "
   ]
  },
  {
   "cell_type": "code",
   "execution_count": 5,
   "metadata": {},
   "outputs": [],
   "source": [
    "from random import randrange\n",
    "\n",
    "line_len = 4\n",
    "\n",
    "for i in range(0, int(len(data1)), 4):\n",
    "    curr_f = randrange(0, 10)\n",
    "    \n",
    "    for j in range(line_len):\n",
    "        outfiles1[curr_f].write(data1[i+j]+\"\\n\")\n",
    "        outfiles2[curr_f].write(data2[i+j]+\"\\n\")\n",
    "        "
   ]
  },
  {
   "cell_type": "code",
   "execution_count": 6,
   "metadata": {},
   "outputs": [],
   "source": [
    "for outfile in outfiles1:\n",
    "    outfile.close()\n",
    "    \n",
    "for outfile in outfiles2:\n",
    "    outfile.close()\n"
   ]
  },
  {
   "cell_type": "code",
   "execution_count": null,
   "metadata": {},
   "outputs": [],
   "source": []
  }
 ],
 "metadata": {
  "kernelspec": {
   "display_name": "Python 3",
   "language": "python",
   "name": "python3"
  },
  "language_info": {
   "codemirror_mode": {
    "name": "ipython",
    "version": 3
   },
   "file_extension": ".py",
   "mimetype": "text/x-python",
   "name": "python",
   "nbconvert_exporter": "python",
   "pygments_lexer": "ipython3",
   "version": "3.7.6"
  }
 },
 "nbformat": 4,
 "nbformat_minor": 4
}
